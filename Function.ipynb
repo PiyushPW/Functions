{
  "nbformat": 4,
  "nbformat_minor": 0,
  "metadata": {
    "colab": {
      "provenance": []
    },
    "kernelspec": {
      "name": "python3",
      "display_name": "Python 3"
    },
    "language_info": {
      "name": "python"
    }
  },
  "cells": [
    {
      "cell_type": "markdown",
      "source": [
        "#Functions\n",
        "1. What is the difference between a function and a method in Python?\n",
        "\n",
        "  In Python, functions and methods are both blocks of reusable code, but they differ in their context and usage.\n",
        "  - A function is a standalone block of code defined using the def keyword.\n",
        "  -It is not tied to any specific object and can be called independently.\n",
        "  - Functions are used to perform a specific task and can take arguments and return values.\n",
        " -A method is a function that is associated with an object (usually part of a class).\n",
        "  -It operates on the data (attributes) of the object it is called on.\n",
        "  -Methods are typically used to define behaviors of an object and often require the self parameter to access the object's attributes.\n",
        "\n",
        "2. Explain the concept of function arguments and parameters in Python.\n",
        "  Parameters:\n",
        "  -These are the placeholders or variables defined in the function's definition.\n",
        "\n",
        "  -They act as \"input slots\" for the function, allowing it to accept data when called.\n",
        "   \n",
        "   Argument:\n",
        "\n",
        "   -In Python, arguments are values that are passed to functions when they are called. These values are used by the function to perform operations or calculations.\n",
        "\n",
        "   -Arguments are specified after the function name, inside the parentheses, and can be of various types, such as positional, keyword, default, and arbitrary arguments.\n",
        "\n",
        "3. What are the different ways to define and call a function in Python?  \n",
        "\n",
        "  -In Python, a function is defined using the def keyword followed by the function name and parentheses. The code block within every function starts with a colon (:) and is indented.\n",
        "\n",
        "4. What is the purpose of the `return` statement in a Python function?\n",
        "  -Send a Result Back to the Caller.\n",
        "\n",
        "  -End Function Execution.\n",
        "\n",
        "  -Enable Reusability and Modularity>\n",
        "\n",
        "5. What are iterators in Python and how do they differ from iterables?\n",
        "  -Iterable: Think of it as a \"collection\" you can loop through.\n",
        "\n",
        "  -Iterator: Think of it as the \"mechanism\" that enables looping, one item at a time.\n",
        "\n",
        "6.  Explain the concept of generators in Python and how they are defined.\n",
        "\n",
        "  -Generators in Python are a powerful tool that allows you to create iterators in a more memory-efficient way. They are particularly useful when working with large datasets or streams of data, as they generate values on the fly and do not store the entire sequence in memory.\n",
        "\n",
        "  -In Python, generators are defined using functions that include the yield keyword.\n",
        "\n",
        "7. What are the advantages of using generators over regular functions?\n",
        "\n",
        "  -A generator function has one or more yield functions, whereas a normal function has only one function.\n",
        "\n",
        "  -The states of local variables are retained between calls.\n",
        "\n",
        "8. What is a lambda function in Python and when is it typically used?\n",
        "\n",
        " -A lambda function in Python is a small, anonymous function defined using the lambda keyword. Unlike regular functions defined with def, lambda functions are single-expression functions that return their result implicitly. They are often used for short, simple operations where defining a full function might feel excessive.\n",
        "\n",
        "9. Explain the purpose and usage of the `map()` function in Python.\n",
        "\n",
        " -The map function in Python applies a given function to each item of an iterable (like a list or tuple) and returns a map object (which is an iterator).\n",
        "\n",
        "10. What is the difference between `map()`, `reduce()`, and `filter()` functions in Python?\n",
        "\n",
        "  -The map() function applies a given function to each item of an iterable (like a list) and returns a map object (an iterator).\n",
        "\n",
        "  -The reduce() function applies a function of two arguments cumulatively to the items of an iterable, from left to right, to reduce the iterable to a single value.\n",
        "\n",
        "  -The filter() function constructs an iterator from elements of an iterable for which a function returns true.\n",
        "\n",
        "11. !,[alt text],(https://drive.google.com/file/d/1tfhY0VdijRtmwZ_4dJga2ulwtI2uljTh/view?usp=drive_link)\n"
      ],
      "metadata": {
        "id": "ddGiy7JCBghX"
      }
    },
    {
      "cell_type": "code",
      "source": [
        "#1\n",
        "\n",
        "def sum_of_evens(numbers):\n",
        "    \"\"\"\n",
        "    This function takes a list of numbers as input and returns the sum of all even numbers in the list.\n",
        "\n",
        "    :param numbers: List of integers\n",
        "    :return: Sum of even integers in the list\n",
        "    \"\"\"\n",
        "    return sum(num for num in numbers if num % 2 == 0)\n",
        "\n",
        "# Example usage:\n",
        "example_list = [1, 2, 3, 4, 5, 6]\n",
        "result = sum_of_evens(example_list)\n",
        "print(f\"The sum of even numbers is: {result}\")\n"
      ],
      "metadata": {
        "colab": {
          "base_uri": "https://localhost:8080/"
        },
        "id": "sJGwsGQ7CydH",
        "outputId": "39df7c49-fd07-4861-904e-87d03e331ca8"
      },
      "execution_count": null,
      "outputs": [
        {
          "output_type": "stream",
          "name": "stdout",
          "text": [
            "The sum of even numbers is: 12\n"
          ]
        }
      ]
    },
    {
      "cell_type": "code",
      "source": [
        "#2\n",
        "def reverse_string(input_string):\n",
        "    \"\"\"\n",
        "    This function accepts a string and returns its reverse.\n",
        "    \"\"\"\n",
        "    return input_string[::-1]\n",
        "\n",
        "# Example usage:\n",
        "result = reverse_string(\"Hello, World!\")\n",
        "print(result)  # Output: !dlroW ,olleH\n"
      ],
      "metadata": {
        "id": "yfJqkugBOOwR",
        "colab": {
          "base_uri": "https://localhost:8080/"
        },
        "outputId": "1e240f3f-e35f-4f44-f683-bbddfb40dcbf"
      },
      "execution_count": null,
      "outputs": [
        {
          "output_type": "stream",
          "name": "stdout",
          "text": [
            "!dlroW ,olleH\n"
          ]
        }
      ]
    },
    {
      "cell_type": "code",
      "source": [
        "#3\n",
        "def square_numbers(numbers):\n",
        "    \"\"\"\n",
        "    Takes a list of integers and returns a new list with their squares.\n",
        "\n",
        "    Args:\n",
        "        numbers (list): A list of integers.\n",
        "\n",
        "    Returns:\n",
        "        list: A list containing the squares of the input integers.\n",
        "    \"\"\"\n",
        "    return [num ** 2 for num in numbers]\n",
        "\n",
        "# Example usage:\n",
        "input_list = [1, 2, 3, 4, 5]\n",
        "output_list = square_numbers(input_list)\n",
        "print(output_list)  # Output: [1, 4, 9, 16, 25]\n",
        "\n",
        "\n"
      ],
      "metadata": {
        "colab": {
          "base_uri": "https://localhost:8080/"
        },
        "id": "ak7MYno0DmQ2",
        "outputId": "cbc4550b-c2e0-4306-cc2c-10ea8574ff00"
      },
      "execution_count": null,
      "outputs": [
        {
          "output_type": "stream",
          "name": "stdout",
          "text": [
            "[1, 4, 9, 16, 25]\n"
          ]
        }
      ]
    },
    {
      "cell_type": "code",
      "source": [
        "#4\n",
        "def is_prime(number):\n",
        "    \"\"\"\n",
        "    Function to check if a number is prime.\n",
        "    Returns True if the number is prime, otherwise False.\n",
        "    \"\"\"\n",
        "    if number < 2:\n",
        "        return False  # Numbers less than 2 are not prime\n",
        "    for i in range(2, int(number ** 0.5) + 1):  # Check divisors up to the square root of the number\n",
        "        if number % i == 0:\n",
        "            return False\n",
        "    return True\n",
        "\n",
        "# Check for numbers from 1 to 200\n",
        "for num in range(1, 201):\n",
        "    if is_prime(num):\n",
        "        print(f\"{num} is a prime number.\")\n",
        "    else:\n",
        "        print(f\"{num} is not a prime number.\")"
      ],
      "metadata": {
        "colab": {
          "base_uri": "https://localhost:8080/"
        },
        "id": "A7oXoTRdD7x8",
        "outputId": "0382ffa2-c30c-4423-9fc5-82479683085d"
      },
      "execution_count": null,
      "outputs": [
        {
          "output_type": "stream",
          "name": "stdout",
          "text": [
            "1 is not a prime number.\n",
            "2 is a prime number.\n",
            "3 is a prime number.\n",
            "4 is not a prime number.\n",
            "5 is a prime number.\n",
            "6 is not a prime number.\n",
            "7 is a prime number.\n",
            "8 is not a prime number.\n",
            "9 is not a prime number.\n",
            "10 is not a prime number.\n",
            "11 is a prime number.\n",
            "12 is not a prime number.\n",
            "13 is a prime number.\n",
            "14 is not a prime number.\n",
            "15 is not a prime number.\n",
            "16 is not a prime number.\n",
            "17 is a prime number.\n",
            "18 is not a prime number.\n",
            "19 is a prime number.\n",
            "20 is not a prime number.\n",
            "21 is not a prime number.\n",
            "22 is not a prime number.\n",
            "23 is a prime number.\n",
            "24 is not a prime number.\n",
            "25 is not a prime number.\n",
            "26 is not a prime number.\n",
            "27 is not a prime number.\n",
            "28 is not a prime number.\n",
            "29 is a prime number.\n",
            "30 is not a prime number.\n",
            "31 is a prime number.\n",
            "32 is not a prime number.\n",
            "33 is not a prime number.\n",
            "34 is not a prime number.\n",
            "35 is not a prime number.\n",
            "36 is not a prime number.\n",
            "37 is a prime number.\n",
            "38 is not a prime number.\n",
            "39 is not a prime number.\n",
            "40 is not a prime number.\n",
            "41 is a prime number.\n",
            "42 is not a prime number.\n",
            "43 is a prime number.\n",
            "44 is not a prime number.\n",
            "45 is not a prime number.\n",
            "46 is not a prime number.\n",
            "47 is a prime number.\n",
            "48 is not a prime number.\n",
            "49 is not a prime number.\n",
            "50 is not a prime number.\n",
            "51 is not a prime number.\n",
            "52 is not a prime number.\n",
            "53 is a prime number.\n",
            "54 is not a prime number.\n",
            "55 is not a prime number.\n",
            "56 is not a prime number.\n",
            "57 is not a prime number.\n",
            "58 is not a prime number.\n",
            "59 is a prime number.\n",
            "60 is not a prime number.\n",
            "61 is a prime number.\n",
            "62 is not a prime number.\n",
            "63 is not a prime number.\n",
            "64 is not a prime number.\n",
            "65 is not a prime number.\n",
            "66 is not a prime number.\n",
            "67 is a prime number.\n",
            "68 is not a prime number.\n",
            "69 is not a prime number.\n",
            "70 is not a prime number.\n",
            "71 is a prime number.\n",
            "72 is not a prime number.\n",
            "73 is a prime number.\n",
            "74 is not a prime number.\n",
            "75 is not a prime number.\n",
            "76 is not a prime number.\n",
            "77 is not a prime number.\n",
            "78 is not a prime number.\n",
            "79 is a prime number.\n",
            "80 is not a prime number.\n",
            "81 is not a prime number.\n",
            "82 is not a prime number.\n",
            "83 is a prime number.\n",
            "84 is not a prime number.\n",
            "85 is not a prime number.\n",
            "86 is not a prime number.\n",
            "87 is not a prime number.\n",
            "88 is not a prime number.\n",
            "89 is a prime number.\n",
            "90 is not a prime number.\n",
            "91 is not a prime number.\n",
            "92 is not a prime number.\n",
            "93 is not a prime number.\n",
            "94 is not a prime number.\n",
            "95 is not a prime number.\n",
            "96 is not a prime number.\n",
            "97 is a prime number.\n",
            "98 is not a prime number.\n",
            "99 is not a prime number.\n",
            "100 is not a prime number.\n",
            "101 is a prime number.\n",
            "102 is not a prime number.\n",
            "103 is a prime number.\n",
            "104 is not a prime number.\n",
            "105 is not a prime number.\n",
            "106 is not a prime number.\n",
            "107 is a prime number.\n",
            "108 is not a prime number.\n",
            "109 is a prime number.\n",
            "110 is not a prime number.\n",
            "111 is not a prime number.\n",
            "112 is not a prime number.\n",
            "113 is a prime number.\n",
            "114 is not a prime number.\n",
            "115 is not a prime number.\n",
            "116 is not a prime number.\n",
            "117 is not a prime number.\n",
            "118 is not a prime number.\n",
            "119 is not a prime number.\n",
            "120 is not a prime number.\n",
            "121 is not a prime number.\n",
            "122 is not a prime number.\n",
            "123 is not a prime number.\n",
            "124 is not a prime number.\n",
            "125 is not a prime number.\n",
            "126 is not a prime number.\n",
            "127 is a prime number.\n",
            "128 is not a prime number.\n",
            "129 is not a prime number.\n",
            "130 is not a prime number.\n",
            "131 is a prime number.\n",
            "132 is not a prime number.\n",
            "133 is not a prime number.\n",
            "134 is not a prime number.\n",
            "135 is not a prime number.\n",
            "136 is not a prime number.\n",
            "137 is a prime number.\n",
            "138 is not a prime number.\n",
            "139 is a prime number.\n",
            "140 is not a prime number.\n",
            "141 is not a prime number.\n",
            "142 is not a prime number.\n",
            "143 is not a prime number.\n",
            "144 is not a prime number.\n",
            "145 is not a prime number.\n",
            "146 is not a prime number.\n",
            "147 is not a prime number.\n",
            "148 is not a prime number.\n",
            "149 is a prime number.\n",
            "150 is not a prime number.\n",
            "151 is a prime number.\n",
            "152 is not a prime number.\n",
            "153 is not a prime number.\n",
            "154 is not a prime number.\n",
            "155 is not a prime number.\n",
            "156 is not a prime number.\n",
            "157 is a prime number.\n",
            "158 is not a prime number.\n",
            "159 is not a prime number.\n",
            "160 is not a prime number.\n",
            "161 is not a prime number.\n",
            "162 is not a prime number.\n",
            "163 is a prime number.\n",
            "164 is not a prime number.\n",
            "165 is not a prime number.\n",
            "166 is not a prime number.\n",
            "167 is a prime number.\n",
            "168 is not a prime number.\n",
            "169 is not a prime number.\n",
            "170 is not a prime number.\n",
            "171 is not a prime number.\n",
            "172 is not a prime number.\n",
            "173 is a prime number.\n",
            "174 is not a prime number.\n",
            "175 is not a prime number.\n",
            "176 is not a prime number.\n",
            "177 is not a prime number.\n",
            "178 is not a prime number.\n",
            "179 is a prime number.\n",
            "180 is not a prime number.\n",
            "181 is a prime number.\n",
            "182 is not a prime number.\n",
            "183 is not a prime number.\n",
            "184 is not a prime number.\n",
            "185 is not a prime number.\n",
            "186 is not a prime number.\n",
            "187 is not a prime number.\n",
            "188 is not a prime number.\n",
            "189 is not a prime number.\n",
            "190 is not a prime number.\n",
            "191 is a prime number.\n",
            "192 is not a prime number.\n",
            "193 is a prime number.\n",
            "194 is not a prime number.\n",
            "195 is not a prime number.\n",
            "196 is not a prime number.\n",
            "197 is a prime number.\n",
            "198 is not a prime number.\n",
            "199 is a prime number.\n",
            "200 is not a prime number.\n"
          ]
        }
      ]
    },
    {
      "cell_type": "code",
      "source": [
        "#5\n",
        "class FibonacciIterator:\n",
        "    def __init__(self, n_terms):\n",
        "        self.n_terms = n_terms  # Total number of terms to generate\n",
        "        self.current = 0       # Current term index\n",
        "        self.a, self.b = 0, 1  # Initial two Fibonacci numbers\n",
        "\n",
        "    def __iter__(self):\n",
        "        return self\n",
        "\n",
        "    def __next__(self):\n",
        "        if self.current >= self.n_terms:\n",
        "            raise StopIteration  # Stop iteration when the limit is reached\n",
        "        if self.current == 0:\n",
        "            self.current += 1\n",
        "            return self.a  # Return the first Fibonacci number\n",
        "        elif self.current == 1:\n",
        "            self.current += 1\n",
        "            return self.b  # Return the second Fibonacci number\n",
        "        else:\n",
        "            self.a, self.b = self.b, self.a + self.b  # Update Fibonacci numbers\n",
        "            self.current += 1\n",
        "            return self.a  # Return the next Fibonacci number\n",
        "\n",
        "# Example usage:\n",
        "fib = FibonacciIterator(10)  # Generate the first 10 Fibonacci numbers\n",
        "for num in fib:\n",
        "    print(num)\n"
      ],
      "metadata": {
        "colab": {
          "base_uri": "https://localhost:8080/"
        },
        "id": "4hDKsGGwELFH",
        "outputId": "a61246a1-b15f-4a4d-f113-fefb6bb3d36f"
      },
      "execution_count": null,
      "outputs": [
        {
          "output_type": "stream",
          "name": "stdout",
          "text": [
            "0\n",
            "1\n",
            "1\n",
            "1\n",
            "2\n",
            "3\n",
            "5\n",
            "8\n",
            "13\n",
            "21\n"
          ]
        }
      ]
    },
    {
      "cell_type": "code",
      "source": [
        "#6\n",
        "def powers_of_two(max_exponent):\n",
        "    \"\"\"Generator function to yield powers of 2 up to the given exponent.\"\"\"\n",
        "    for exponent in range(max_exponent + 1):\n",
        "        yield 2 ** exponent\n",
        "\n",
        "# Example usage:\n",
        "for power in powers_of_two(5):\n",
        "    print(power)\n",
        "\n"
      ],
      "metadata": {
        "colab": {
          "base_uri": "https://localhost:8080/"
        },
        "id": "c27zEepXEX3r",
        "outputId": "b05055ec-8d19-4368-8002-6a9a7277f49a"
      },
      "execution_count": null,
      "outputs": [
        {
          "output_type": "stream",
          "name": "stdout",
          "text": [
            "1\n",
            "2\n",
            "4\n",
            "8\n",
            "16\n",
            "32\n"
          ]
        }
      ]
    },
    {
      "cell_type": "code",
      "source": [
        "#8\n",
        "subject_marks = [('English', 88), ('Science', 90), ('Maths', 97), ('Social sciences', 82)]\n",
        "\n",
        "# Display the original list of tuples to the console\n",
        "print(\"Original list of tuples:\")\n",
        "print(subject_marks)\n",
        "\n",
        "# Sort the 'subject_marks' list of tuples based on the second element of each tuple (the marks),\n",
        "# using a lambda function as the sorting key to extract the second element\n",
        "subject_marks.sort(key=lambda x: x[1])\n",
        "\n",
        "# Display the sorted list of tuples to the console\n",
        "print(\"\\nSorting the List of Tuples:\")\n",
        "print(subject_marks)"
      ],
      "metadata": {
        "colab": {
          "base_uri": "https://localhost:8080/"
        },
        "id": "Q2YVr5DWEiLT",
        "outputId": "bbc9278b-5195-47ce-d77f-dff450945f84"
      },
      "execution_count": null,
      "outputs": [
        {
          "output_type": "stream",
          "name": "stdout",
          "text": [
            "Original list of tuples:\n",
            "[('English', 88), ('Science', 90), ('Maths', 97), ('Social sciences', 82)]\n",
            "\n",
            "Sorting the List of Tuples:\n",
            "[('Social sciences', 82), ('English', 88), ('Science', 90), ('Maths', 97)]\n"
          ]
        }
      ]
    },
    {
      "cell_type": "code",
      "source": [
        "#9\n",
        "# Function to convert Celsius to Fahrenheit\n",
        "def celsius_to_fahrenheit(celsius):\n",
        "    return (celsius * 9/5) + 32\n",
        "\n",
        "# List of temperatures in Celsius\n",
        "celsius_temperatures = [0, 20, 37, 100]\n",
        "\n",
        "# Using map to convert to Fahrenheit\n",
        "fahrenheit_temperatures = list(map(celsius_to_fahrenheit, celsius_temperatures))\n",
        "\n",
        "# Display the result\n",
        "print(\"Temperatures in Celsius:\", celsius_temperatures)\n",
        "print(\"Temperatures in Fahrenheit:\", fahrenheit_temperatures)\n"
      ],
      "metadata": {
        "colab": {
          "base_uri": "https://localhost:8080/"
        },
        "id": "ly7mHI3EFjOk",
        "outputId": "86c78057-ac1c-46b1-df39-ad7876eaabd6"
      },
      "execution_count": null,
      "outputs": [
        {
          "output_type": "stream",
          "name": "stdout",
          "text": [
            "Temperatures in Celsius: [0, 20, 37, 100]\n",
            "Temperatures in Fahrenheit: [32.0, 68.0, 98.6, 212.0]\n"
          ]
        }
      ]
    },
    {
      "cell_type": "code",
      "source": [
        "#10\n",
        "def remove_vowels(input_string):\n",
        "    vowels = \"aeiouAEIOU\"\n",
        "    # Use filter to exclude vowels\n",
        "    result = filter(lambda char: char not in vowels, input_string)\n",
        "    # Convert the filter object back to a string\n",
        "    return ''.join(result)\n",
        "\n",
        "# Example usage\n",
        "input_string = \"Hello, World!\"\n",
        "output_string = remove_vowels(input_string)\n",
        "print(\"Original String:\", input_string)\n",
        "print(\"String without vowels:\", output_string)\n"
      ],
      "metadata": {
        "colab": {
          "base_uri": "https://localhost:8080/"
        },
        "id": "g6JQ604qFtz3",
        "outputId": "7f255dd2-7018-4e13-8417-b4f7d07392e7"
      },
      "execution_count": null,
      "outputs": [
        {
          "output_type": "stream",
          "name": "stdout",
          "text": [
            "Original String: Hello, World!\n",
            "String without vowels: Hll, Wrld!\n"
          ]
        }
      ]
    },
    {
      "cell_type": "code",
      "source": [],
      "metadata": {
        "id": "XizAkH95F086"
      },
      "execution_count": null,
      "outputs": []
    }
  ]
}